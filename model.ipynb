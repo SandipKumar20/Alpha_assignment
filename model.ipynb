{
 "cells": [
  {
   "cell_type": "code",
   "execution_count": 4,
   "metadata": {},
   "outputs": [
    {
     "name": "stdout",
     "output_type": "stream",
     "text": [
      "Training Accuracy: 1.0000\n",
      "Test Accuracy: 0.8950\n",
      "Training complete! Model saved as random_forest_npi_model.pkl\n"
     ]
    }
   ],
   "source": [
    "import pandas as pd\n",
    "import joblib\n",
    "from sklearn.model_selection import train_test_split\n",
    "from sklearn.ensemble import RandomForestClassifier\n",
    "from sklearn.preprocessing import LabelEncoder\n",
    "from sklearn.metrics import accuracy_score\n",
    "\n",
    "# Load dataset\n",
    "df = pd.read_excel(\"dummy_npi_data.xlsx\", sheet_name=\"Dataset\")\n",
    "\n",
    "# Feature Engineering\n",
    "df[\"Login Hour\"] = pd.to_datetime(df[\"Login Time\"]).dt.hour  # Extract login hour\n",
    "df[\"Target\"] = (df[\"Count of Survey Attempts\"] > 0).astype(int)  # Binary target\n",
    "\n",
    "# Encode categorical features\n",
    "categorical_features = [\"State\", \"Region\", \"Speciality\"]\n",
    "encoders = {col: LabelEncoder() for col in categorical_features}\n",
    "for col in categorical_features:\n",
    "    df[col] = encoders[col].fit_transform(df[col])\n",
    "\n",
    "# Selecting features and target\n",
    "features = [\"State\", \"Region\", \"Speciality\", \"Login Hour\", \"Usage Time (mins)\"]\n",
    "X = df[features]\n",
    "y = df[\"Target\"]\n",
    "\n",
    "# Split data\n",
    "X_train, X_test, y_train, y_test = train_test_split(X, y, test_size=0.2, random_state=42)\n",
    "\n",
    "# Train model\n",
    "model = RandomForestClassifier(n_estimators=100, random_state=42)\n",
    "model.fit(X_train, y_train)\n",
    "\n",
    "# Compute Training Accuracy\n",
    "train_accuracy = model.score(X_train, y_train)  # Accuracy on training data\n",
    "\n",
    "# Compute Test Accuracy\n",
    "test_accuracy = model.score(X_test, y_test)  # Accuracy on test data\n",
    "\n",
    "# Print Accuracy Scores\n",
    "print(f\"Training Accuracy: {train_accuracy:.4f}\")\n",
    "print(f\"Test Accuracy: {test_accuracy:.4f}\")\n",
    "\n",
    "# Save model\n",
    "joblib.dump(model, \"random_forest_npi_model.pkl\")\n",
    "\n",
    "# Save encoders for later use in prediction\n",
    "joblib.dump(encoders, \"label_encoders.pkl\")\n",
    "\n",
    "# Save feature names for consistency in UI\n",
    "joblib.dump(X_train.columns, \"feature_names.pkl\")\n",
    "\n",
    "print(\"Training complete! Model saved as random_forest_npi_model.pkl\")\n"
   ]
  }
 ],
 "metadata": {
  "kernelspec": {
   "display_name": ".venv",
   "language": "python",
   "name": "python3"
  },
  "language_info": {
   "codemirror_mode": {
    "name": "ipython",
    "version": 3
   },
   "file_extension": ".py",
   "mimetype": "text/x-python",
   "name": "python",
   "nbconvert_exporter": "python",
   "pygments_lexer": "ipython3",
   "version": "3.11.1"
  }
 },
 "nbformat": 4,
 "nbformat_minor": 2
}
